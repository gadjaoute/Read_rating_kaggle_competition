{
 "cells": [
  {
   "cell_type": "code",
   "execution_count": 1,
   "metadata": {},
   "outputs": [],
   "source": [
    "import numpy as np \n",
    "import pandas as pd\n",
    "import urllib \n",
    "import scipy.optimize \n",
    "import random\n",
    "import gzip\n",
    "import ast\n",
    "import csv\n",
    "import gzip\n",
    "from collections import defaultdict\n",
    "import matplotlib.pyplot as plt\n",
    "import numpy"
   ]
  },
  {
   "cell_type": "code",
   "execution_count": 2,
   "metadata": {},
   "outputs": [],
   "source": [
    "import warnings\n",
    "warnings.filterwarnings(\"ignore\")"
   ]
  },
  {
   "cell_type": "markdown",
   "metadata": {},
   "source": [
    "with gzip.open(\"assignment1.tar.gz\", \"rb\") as f:\n",
    "    file_content=f.read()"
   ]
  },
  {
   "cell_type": "markdown",
   "metadata": {},
   "source": [
    "import tarfile\n",
    "tar=tarfile.open(\"assignment1.tar.gz\")\n",
    "tar.extractall()"
   ]
  },
  {
   "cell_type": "markdown",
   "metadata": {},
   "source": [
    "for member in tar.getmembers():\n",
    "    print(\"Extracting %s\" % member.name)\n",
    "    tar.extract(member)"
   ]
  },
  {
   "cell_type": "markdown",
   "metadata": {},
   "source": [
    "import gzip\n",
    "from collections import defaultdict\n",
    "path = \"train_Interactions.csv.gz\"\n",
    "\n",
    "def readGz(path):\n",
    "    for l in gzip.open(path, 'rt'):\n",
    "        yield eval(l)\n",
    "\n",
    "def readCSV(path):\n",
    "    f = gzip.open(path, 'rt')\n",
    "    f.readline()\n",
    "    for l in f:\n",
    "        yield l.strip().split(',')"
   ]
  },
  {
   "cell_type": "markdown",
   "metadata": {},
   "source": [
    "1. Although we have built a validation set, it only consists of positive samples. For this task we also need\n",
    "examples of user/item pairs that weren’t read. For each entry (user,book) in the validation set, sample a\n",
    "negative entry by randomly choosing a book that user hasn’t read.1 Evaluate the performance (accuracy)\n",
    "of the baseline model on the validation set you have built (1 mark)."
   ]
  },
  {
   "cell_type": "code",
   "execution_count": 3,
   "metadata": {},
   "outputs": [],
   "source": [
    "X = []\n",
    "y = []\n",
    "df = pd.read_csv('train_Interactions.csv')\n",
    "for i in range(len(df)):\n",
    "    X.extend([[df['userID'][i], df['bookID'][i], df['rating'][i]]])\n",
    "    y.append(1)"
   ]
  },
  {
   "cell_type": "code",
   "execution_count": 4,
   "metadata": {},
   "outputs": [],
   "source": [
    "Xy=list(zip(X,y))"
   ]
  },
  {
   "cell_type": "code",
   "execution_count": 5,
   "metadata": {},
   "outputs": [],
   "source": [
    "random.shuffle(Xy)"
   ]
  },
  {
   "cell_type": "code",
   "execution_count": 6,
   "metadata": {},
   "outputs": [],
   "source": [
    "X_train = X[0:190000]\n",
    "y_train = y[0:190000]\n",
    "X_val = X[190000:200000]\n",
    "y_val = y[190000:200000]"
   ]
  },
  {
   "cell_type": "code",
   "execution_count": 7,
   "metadata": {},
   "outputs": [
    {
     "data": {
      "text/plain": [
       "10000"
      ]
     },
     "execution_count": 7,
     "metadata": {},
     "output_type": "execute_result"
    }
   ],
   "source": [
    "len(X_val)"
   ]
  },
  {
   "cell_type": "code",
   "execution_count": 8,
   "metadata": {},
   "outputs": [
    {
     "data": {
      "text/plain": [
       "['u93625722', 'b90140601', 4]"
      ]
     },
     "execution_count": 8,
     "metadata": {},
     "output_type": "execute_result"
    }
   ],
   "source": [
    "X_val[-1]"
   ]
  },
  {
   "cell_type": "code",
   "execution_count": 9,
   "metadata": {},
   "outputs": [],
   "source": [
    "usersPerItem = defaultdict(set)\n",
    "itemsPerUser = defaultdict(set)\n",
    "all_books = set([x[1] for x in X])\n"
   ]
  },
  {
   "cell_type": "markdown",
   "metadata": {},
   "source": [
    "For each (user, book) in the train set, randomly choose a book from the entire dataset. If the random book is not in booksPerUser[user], add that (user, random_book) pair to the train set. "
   ]
  },
  {
   "cell_type": "code",
   "execution_count": 10,
   "metadata": {},
   "outputs": [],
   "source": [
    "X_train2=[]\n",
    "\n",
    "for user_book in X_train:\n",
    "    current_user = user_book[0]\n",
    "    #rating=-1\n",
    "    rating=0\n",
    "    the_diff=list(all_books.difference(itemsPerUser[current_user]))\n",
    "    rand_idx = random.randrange(len(the_diff)) \n",
    "    choice = the_diff[rand_idx]\n",
    "    X_train2.append([current_user, choice,rating])\n",
    "    y_train.append(0)"
   ]
  },
  {
   "cell_type": "code",
   "execution_count": 11,
   "metadata": {},
   "outputs": [],
   "source": [
    "X_train.extend(X_train2)"
   ]
  },
  {
   "cell_type": "code",
   "execution_count": 12,
   "metadata": {},
   "outputs": [],
   "source": [
    "valid = []"
   ]
  },
  {
   "cell_type": "markdown",
   "metadata": {},
   "source": [
    "(2) For each (user, book) in the validation set, randomly choose a book from the entire dataset. If the random book is not in booksPerUser[user], add that (user, random_book) pair to the validation set. "
   ]
  },
  {
   "cell_type": "code",
   "execution_count": 13,
   "metadata": {},
   "outputs": [],
   "source": [
    "X_val2=[]\n",
    "\n",
    "for user_book in X_val:\n",
    "    current_user = user_book[0]\n",
    "    #rating=-1\n",
    "    rating=0\n",
    "    the_diff=list(all_books.difference(itemsPerUser[current_user]))\n",
    "    rand_idx = random.randrange(len(the_diff)) \n",
    "    choice = the_diff[rand_idx]\n",
    "    X_val2.append([current_user, choice,rating])\n",
    "    y_val.append(0)"
   ]
  },
  {
   "cell_type": "code",
   "execution_count": 14,
   "metadata": {},
   "outputs": [],
   "source": [
    "X_val.extend(X_val2)"
   ]
  },
  {
   "cell_type": "markdown",
   "metadata": {},
   "source": [
    "(3) I use the provided baseline code to compute the baseline's predictions on the training set. \n",
    "This returns a set of the most popular 50% of books based on the training set. "
   ]
  },
  {
   "cell_type": "code",
   "execution_count": 15,
   "metadata": {},
   "outputs": [],
   "source": [
    "bookCount = defaultdict(int)\n",
    "totalRead = 0\n",
    "\n",
    "for user,book,rating in X_train: #running baseline code on the training set I created for read prediction.\n",
    "    bookCount[book] += 1\n",
    "    totalRead += 1\n",
    "\n",
    "mostPopular = [(bookCount[x], x) for x in bookCount]\n",
    "mostPopular.sort()\n",
    "mostPopular.reverse()\n",
    "\n",
    "return1 = set()\n",
    "count = 0\n",
    "for ic, i in mostPopular:\n",
    "    count += ic\n",
    "    return1.add(i)\n",
    "    if count > totalRead/2: break"
   ]
  },
  {
   "cell_type": "markdown",
   "metadata": {},
   "source": [
    "(4) For each (user, book) in the new balanced validation set, I compute the model's prediction using the previous set (which was trained on only the training set). "
   ]
  },
  {
   "cell_type": "code",
   "execution_count": 16,
   "metadata": {},
   "outputs": [],
   "source": [
    "Y_val_predictions=[]\n",
    "\n",
    "for l in range(len(X_val)):\n",
    "    u=X_val[l][0]\n",
    "    b=X_val[l][1]\n",
    "    if b in return1:\n",
    "        Y_val_predictions.append(1)\n",
    "    else:\n",
    "        Y_val_predictions.append(0)"
   ]
  },
  {
   "cell_type": "code",
   "execution_count": 17,
   "metadata": {},
   "outputs": [],
   "source": [
    "Y_val_actual=[]\n",
    "\n",
    "for l in range(len(X_val)):\n",
    "    #continue \n",
    "    u=X_val[l][0]\n",
    "    b=X_val[l][1]\n",
    "    rating=X_val[l][2]\n",
    "    \n",
    "    if rating == 0:\n",
    "        Y_val_actual.append(0) #code this as the book was not read\n",
    "    else:\n",
    "        Y_val_actual.append(1) #code this as the book was read"
   ]
  },
  {
   "cell_type": "code",
   "execution_count": 43,
   "metadata": {},
   "outputs": [
    {
     "data": {
      "text/plain": [
       "20000"
      ]
     },
     "execution_count": 43,
     "metadata": {},
     "output_type": "execute_result"
    }
   ],
   "source": [
    "len(Y_val_actual)"
   ]
  },
  {
   "cell_type": "code",
   "execution_count": 18,
   "metadata": {},
   "outputs": [
    {
     "name": "stdout",
     "output_type": "stream",
     "text": [
      "Accuracy of baseline classifier on the validation set is: 0.64075\n",
      "BER is: 0.3598249957897621\n",
      "F1 is: 0.6251760655224582\n",
      "F10 is: 0.6273252909140288\n"
     ]
    }
   ],
   "source": [
    "from sklearn.metrics import confusion_matrix\n",
    "tn,fp,fn,tp = confusion_matrix(Y_val_actual,Y_val_predictions).ravel()\n",
    "accuracy=(tp+tn)/(tp+tn+fp+fn)\n",
    "TNR=tn/(tn+fp)\n",
    "TPR=tp/(tp+fn)\n",
    "BER=1-0.5*(TPR+TNR)\n",
    "recall=tp/(tp+fn)\n",
    "precision=tp/(tp+fp)\n",
    "F1=2*(precision*recall)/(precision+recall)\n",
    "F10=101*(precision*recall)/(100*precision+recall)\n",
    "\n",
    "print(\"Accuracy of baseline classifier on the validation set is:\",accuracy)\n",
    "print(\"BER is:\",BER)\n",
    "print(\"F1 is:\",F1)\n",
    "print(\"F10 is:\",F10)"
   ]
  },
  {
   "cell_type": "markdown",
   "metadata": {},
   "source": [
    "### Question 2:\n",
    "Try other thresholds or percentiles for popularity, to come up with better accuracy on the validation set."
   ]
  },
  {
   "cell_type": "code",
   "execution_count": 19,
   "metadata": {},
   "outputs": [],
   "source": [
    "threshold=[0.1,0.2,0.3,0.4,0.5,0.6,0.7,0.8,0.9] \n",
    "accuracy_per_threshold=[]"
   ]
  },
  {
   "cell_type": "code",
   "execution_count": 20,
   "metadata": {},
   "outputs": [
    {
     "name": "stdout",
     "output_type": "stream",
     "text": [
      "0.1\n",
      "0.58185\n",
      "0.2\n",
      "0.6212\n",
      "0.3\n",
      "0.643\n",
      "0.4\n",
      "0.65025\n",
      "0.5\n",
      "0.64075\n",
      "0.6\n",
      "0.6216\n",
      "0.7\n",
      "0.59565\n",
      "0.8\n",
      "0.5654\n",
      "0.9\n",
      "0.52635\n"
     ]
    }
   ],
   "source": [
    "for tr in threshold:\n",
    "    print(tr)\n",
    "    bookCount2= defaultdict(int)\n",
    "    totalRead2 = 0\n",
    "\n",
    "    for i in range(len(X_train)):\n",
    "        user2=X_train[i][0]\n",
    "        book2=X_train[i][1]\n",
    "        bookCount2[book2] += 1\n",
    "        totalRead2 += 1\n",
    "    \n",
    "    mostPopular2 = [(bookCount2[x], x) for x in bookCount2]\n",
    "    mostPopular2.sort()\n",
    "    mostPopular2.reverse()\n",
    "    \n",
    "    return2 = set()\n",
    "    count2 = 0\n",
    "    for ic, i in mostPopular:\n",
    "        count2 += ic\n",
    "        return2.add(i)\n",
    "        if count2 > totalRead2*tr: break\n",
    "    \n",
    "    Y_val_predictions2=[]\n",
    "    \n",
    "    for l in range(len(X_val)):\n",
    "    #continue \n",
    "        u=X_val[l][0]\n",
    "        b=X_val[l][1]\n",
    "        if b in return2:\n",
    "            Y_val_predictions2.append(1)\n",
    "        else:\n",
    "            Y_val_predictions2.append(0)\n",
    "            \n",
    "    tn2,fp2,fn2,tp2 = confusion_matrix(Y_val_actual,Y_val_predictions2).ravel()\n",
    "    accuracy2=(tp2+tn2)/(tp2+tn2+fp2+fn2)\n",
    "    print(accuracy2)\n",
    "    accuracy_per_threshold.append(accuracy2)\n"
   ]
  },
  {
   "cell_type": "markdown",
   "metadata": {},
   "source": [
    "Graph accuracy for different Thresholds:"
   ]
  },
  {
   "cell_type": "code",
   "execution_count": 21,
   "metadata": {},
   "outputs": [
    {
     "data": {
      "image/png": "[encoded data removed]",
      "text/plain": [
       "<Figure size 432x288 with 1 Axes>"
      ]
     },
     "metadata": {
      "needs_background": "light"
     },
     "output_type": "display_data"
    }
   ],
   "source": [
    "plt.plot(threshold,accuracy_per_threshold, color=\"turquoise\",label=\"Accuracy for Valid set\")\n",
    "plt.suptitle(\"Accuracy per threshold\")\n",
    "plt.xlabel(\"Threshold\")\n",
    "plt.ylabel(\"Accuracy\")\n",
    "plt.legend()\n",
    "plt.show()"
   ]
  },
  {
   "cell_type": "markdown",
   "metadata": {},
   "source": [
    "Based on the graph, we can conclude that a threshold of 0.4 rather than 0.5 will increase the accuracy of the baseline model on the validation set. If we print the accuracy with further threshold we find that 0.589 has the highest accuracy."
   ]
  },
  {
   "cell_type": "code",
   "execution_count": 22,
   "metadata": {},
   "outputs": [],
   "source": [
    "X_train_df=pd.DataFrame(X_train, columns = ['userID' , 'bookID', 'rating']) "
   ]
  },
  {
   "cell_type": "code",
   "execution_count": 23,
   "metadata": {},
   "outputs": [
    {
     "data": {
      "text/html": [
       "<div>\n",
       "<style scoped>\n",
       "    .dataframe tbody tr th:only-of-type {\n",
       "        vertical-align: middle;\n",
       "    }\n",
       "\n",
       "    .dataframe tbody tr th {\n",
       "        vertical-align: top;\n",
       "    }\n",
       "\n",
       "    .dataframe thead th {\n",
       "        text-align: right;\n",
       "    }\n",
       "</style>\n",
       "<table border=\"1\" class=\"dataframe\">\n",
       "  <thead>\n",
       "    <tr style=\"text-align: right;\">\n",
       "      <th></th>\n",
       "      <th>userID</th>\n",
       "      <th>bookID</th>\n",
       "      <th>rating</th>\n",
       "    </tr>\n",
       "  </thead>\n",
       "  <tbody>\n",
       "    <tr>\n",
       "      <td>0</td>\n",
       "      <td>u79354815</td>\n",
       "      <td>b14275065</td>\n",
       "      <td>4</td>\n",
       "    </tr>\n",
       "    <tr>\n",
       "      <td>1</td>\n",
       "      <td>u56917948</td>\n",
       "      <td>b82152306</td>\n",
       "      <td>5</td>\n",
       "    </tr>\n",
       "    <tr>\n",
       "      <td>2</td>\n",
       "      <td>u97915914</td>\n",
       "      <td>b44882292</td>\n",
       "      <td>5</td>\n",
       "    </tr>\n",
       "    <tr>\n",
       "      <td>3</td>\n",
       "      <td>u49688858</td>\n",
       "      <td>b79927466</td>\n",
       "      <td>5</td>\n",
       "    </tr>\n",
       "    <tr>\n",
       "      <td>4</td>\n",
       "      <td>u08384938</td>\n",
       "      <td>b05683889</td>\n",
       "      <td>2</td>\n",
       "    </tr>\n",
       "  </tbody>\n",
       "</table>\n",
       "</div>"
      ],
      "text/plain": [
       "      userID     bookID  rating\n",
       "0  u79354815  b14275065       4\n",
       "1  u56917948  b82152306       5\n",
       "2  u97915914  b44882292       5\n",
       "3  u49688858  b79927466       5\n",
       "4  u08384938  b05683889       2"
      ]
     },
     "execution_count": 23,
     "metadata": {},
     "output_type": "execute_result"
    }
   ],
   "source": [
    "X_train_df.head()"
   ]
  },
  {
   "cell_type": "code",
   "execution_count": 24,
   "metadata": {},
   "outputs": [],
   "source": [
    "X_val_df=pd.DataFrame(X_val, columns = ['userID' , 'bookID', 'rating'])"
   ]
  },
  {
   "cell_type": "code",
   "execution_count": 25,
   "metadata": {},
   "outputs": [
    {
     "data": {
      "text/plain": [
       "20000"
      ]
     },
     "execution_count": 25,
     "metadata": {},
     "output_type": "execute_result"
    }
   ],
   "source": [
    "len(X_val_df)"
   ]
  },
  {
   "cell_type": "code",
   "execution_count": 26,
   "metadata": {},
   "outputs": [],
   "source": [
    "threshold=[0.4] #this is the threshold we select for the highest accuracy."
   ]
  },
  {
   "cell_type": "code",
   "execution_count": 27,
   "metadata": {},
   "outputs": [
    {
     "name": "stdout",
     "output_type": "stream",
     "text": [
      "0.4\n",
      "0.65025\n"
     ]
    }
   ],
   "source": [
    "#Build Popularity Feature:\n",
    "for tr in threshold:\n",
    "    print(tr)\n",
    "    bookCount2= defaultdict(int)\n",
    "    totalRead2 = 0\n",
    "\n",
    "    for i in range(len(X_train_df)):\n",
    "        user2=X_train_df.iloc[i][0]\n",
    "        book2=X_train_df.iloc[i][1]\n",
    "        bookCount2[book2] += 1\n",
    "        totalRead2 += 1\n",
    "    \n",
    "    mostPopular2 = [(bookCount2[x], x) for x in bookCount2]\n",
    "    mostPopular2.sort()\n",
    "    mostPopular2.reverse()\n",
    "    \n",
    "    return2 = set()\n",
    "    count2 = 0\n",
    "    for ic, i in mostPopular:\n",
    "        count2 += ic\n",
    "        return2.add(i)\n",
    "        if count2 > totalRead2*tr: break\n",
    "    \n",
    "    Y_predictions_pop=[]\n",
    "    \n",
    "    for l in range(len(X_val_df)): \n",
    "        u=X_val_df.iloc[l][0]\n",
    "        b=X_val_df.iloc[l][1]\n",
    "        if b in return2:\n",
    "            Y_predictions_pop.append(1)\n",
    "        else:\n",
    "            Y_predictions_pop.append(0)\n",
    "            \n",
    "    tn2,fp2,fn2,tp2 = confusion_matrix(Y_val_actual,Y_predictions_pop).ravel()\n",
    "    accuracy2=(tp2+tn2)/(tp2+tn2+fp2+fn2)\n",
    "    print(accuracy2)\n",
    "    accuracy_per_threshold.append(accuracy2)\n"
   ]
  },
  {
   "cell_type": "markdown",
   "metadata": {},
   "source": [
    "***3.*** A stronger baseline than the one provided might make use of the Jaccard similarity (or another similarity metric). Given a pair (u, b) in the validation set, consider all training items b' that user u has read. For each, compute the Jaccard similarity between b and b', i.e., users (in the training set) who have read b and users who have read b'. Predict as ‘read’ if the maximum of these Jaccard similarities exceeds a threshold (you may choose the threshold that works best). Report the performance on your validation set (1 mark)."
   ]
  },
  {
   "cell_type": "code",
   "execution_count": 32,
   "metadata": {},
   "outputs": [],
   "source": [
    "def Jaccard(s1, s2):\n",
    "    numer = len(s1.intersection(s2))\n",
    "    denom = len(s1.union(s2))\n",
    "    return numer / denom"
   ]
  },
  {
   "cell_type": "code",
   "execution_count": 33,
   "metadata": {},
   "outputs": [],
   "source": [
    "# WHAT I DID IN HMW 3\n",
    "# Obtain all available books in the train set:\n",
    "allBooks_train = X_train_df['bookID'].unique().tolist()\n",
    "# Get Books per user on the train set:\n",
    "book_user_train = X_train_df.groupby('userID')\n",
    "#Users per book on the train set\n",
    "user_per_book_train = X_train_df.groupby('bookID')\n",
    "\n",
    "y_predictions_jaccard = []\n",
    "similar = []\n",
    "threshold = 0.00001"
   ]
  },
  {
   "cell_type": "code",
   "execution_count": 34,
   "metadata": {},
   "outputs": [],
   "source": [
    "for i in range(len(X_val_df)):\n",
    "    user = X_val_df.iloc[i][0]\n",
    "    BK = X_val_df.iloc[i][1]\n",
    "    \n",
    "    sim = []\n",
    "    if BK in allBooks_train:\n",
    "        BK_users = set(user_per_book_train.get_group(BK)['userID'])\n",
    "        Book_read = book_user_train.get_group(user)['bookID']\n",
    "             \n",
    "        if len(BK_users) == 1:\n",
    "            users_book_read = {}\n",
    "            sim.append(Jaccard(BK_users,users_book_read))\n",
    "            if max(sim) > threshold:\n",
    "                y_predictions_jaccard.append(1)\n",
    "            else:\n",
    "                y_predictions_jaccard.append(0)      \n",
    "        else:\n",
    "            for i in Book_read:\n",
    "                users_book_read = set(user_per_book_train.get_group(i)['userID'])\n",
    "                sim.append(Jaccard(BK_users,users_book_read))\n",
    "                \n",
    "            if max(sim) > threshold:\n",
    "                y_predictions_jaccard.append(1)\n",
    "            else:\n",
    "                y_predictions_jaccard.append(0)\n",
    "    else: \n",
    "        sim = 0\n",
    "        y_predictions_jaccard.append(0)\n",
    "    \n",
    "    similar.append(sim)"
   ]
  },
  {
   "cell_type": "code",
   "execution_count": 36,
   "metadata": {},
   "outputs": [
    {
     "data": {
      "text/plain": [
       "20000"
      ]
     },
     "execution_count": 36,
     "metadata": {},
     "output_type": "execute_result"
    }
   ],
   "source": [
    "len(y_predictions_jaccard)"
   ]
  },
  {
   "cell_type": "code",
   "execution_count": 37,
   "metadata": {},
   "outputs": [
    {
     "data": {
      "text/plain": [
       "0.4788"
      ]
     },
     "execution_count": 37,
     "metadata": {},
     "output_type": "execute_result"
    }
   ],
   "source": [
    "tn4,fp4,fn4,tp4= confusion_matrix(Y_val_actual,y_predictions_jaccard).ravel()\n",
    "accuracy4=(tp4+tn4)/(tp4+tn4+fp4+fn4)\n",
    "#the accuracy is: \n",
    "accuracy4 #0.5928"
   ]
  },
  {
   "cell_type": "markdown",
   "metadata": {},
   "source": [
    "Instead of combining the model as I did in homework #3, I decided to use ensembling. I build a feature vector using our predictions from the popularity predictions (using a threshold of 0.4) as well as the jaccard predictions (using a threshold of 0.00001). I then run a logistic regression on both features to fit the model."
   ]
  },
  {
   "cell_type": "code",
   "execution_count": 38,
   "metadata": {},
   "outputs": [],
   "source": [
    "features = np.column_stack((Y_predictions_pop, y_predictions_jaccard))"
   ]
  },
  {
   "cell_type": "code",
   "execution_count": 42,
   "metadata": {},
   "outputs": [
    {
     "data": {
      "text/plain": [
       "20000"
      ]
     },
     "execution_count": 42,
     "metadata": {},
     "output_type": "execute_result"
    }
   ],
   "source": [
    "len(y_predictions_jaccard)"
   ]
  },
  {
   "cell_type": "code",
   "execution_count": 44,
   "metadata": {},
   "outputs": [],
   "source": [
    "y=Y_val_actual"
   ]
  },
  {
   "cell_type": "code",
   "execution_count": 53,
   "metadata": {},
   "outputs": [],
   "source": [
    "from sklearn import linear_model"
   ]
  },
  {
   "cell_type": "code",
   "execution_count": 83,
   "metadata": {},
   "outputs": [],
   "source": [
    "mod = linear_model.LogisticRegression(C=0.0001, class_weight='balanced')"
   ]
  },
  {
   "cell_type": "code",
   "execution_count": 84,
   "metadata": {},
   "outputs": [
    {
     "data": {
      "text/plain": [
       "LogisticRegression(C=0.0001, class_weight='balanced', dual=False,\n",
       "                   fit_intercept=True, intercept_scaling=1, l1_ratio=None,\n",
       "                   max_iter=100, multi_class='warn', n_jobs=None, penalty='l2',\n",
       "                   random_state=None, solver='warn', tol=0.0001, verbose=0,\n",
       "                   warm_start=False)"
      ]
     },
     "execution_count": 84,
     "metadata": {},
     "output_type": "execute_result"
    }
   ],
   "source": [
    "mod.fit(features, y)"
   ]
  },
  {
   "cell_type": "code",
   "execution_count": 85,
   "metadata": {},
   "outputs": [],
   "source": [
    "#make predictions from the data\n",
    "predictions = mod.predict(features)"
   ]
  },
  {
   "cell_type": "code",
   "execution_count": 86,
   "metadata": {},
   "outputs": [
    {
     "data": {
      "text/plain": [
       "array([ True, False, False, ...,  True,  True, False])"
      ]
     },
     "execution_count": 86,
     "metadata": {},
     "output_type": "execute_result"
    }
   ],
   "source": [
    "#Check whether they match the labels\n",
    "correctPredictions = predictions == y\n",
    "correctPredictions"
   ]
  },
  {
   "cell_type": "code",
   "execution_count": 87,
   "metadata": {},
   "outputs": [
    {
     "name": "stdout",
     "output_type": "stream",
     "text": [
      "Accuracy for regression is = \n"
     ]
    },
    {
     "data": {
      "text/plain": [
       "0.65025"
      ]
     },
     "execution_count": 87,
     "metadata": {},
     "output_type": "execute_result"
    }
   ],
   "source": [
    "print('Accuracy for regression is = ')\n",
    "sum(predictions == y) / len(predictions)"
   ]
  },
  {
   "cell_type": "code",
   "execution_count": 81,
   "metadata": {},
   "outputs": [],
   "source": [
    "from sklearn.model_selection import GridSearchCV, cross_val_score"
   ]
  },
  {
   "cell_type": "code",
   "execution_count": 82,
   "metadata": {},
   "outputs": [
    {
     "name": "stdout",
     "output_type": "stream",
     "text": [
      "What is the best model: LogisticRegression(C=0.0001, class_weight=None, dual=False, fit_intercept=True,\n",
      "                   intercept_scaling=1, l1_ratio=None, max_iter=100,\n",
      "                   multi_class='warn', n_jobs=None, penalty='l2',\n",
      "                   random_state=None, solver='warn', tol=0.0001, verbose=0,\n",
      "                   warm_start=False)\n",
      "What is the score of the best model: 0.65025\n",
      "   mean_fit_time  std_fit_time  mean_score_time  std_score_time param_C  \\\n",
      "0       0.026480      0.002532         0.003636        0.001391  0.0001   \n",
      "1       0.022378      0.000031         0.002651        0.000087   0.001   \n",
      "2       0.024041      0.000980         0.002610        0.000044    0.01   \n",
      "3       0.024641      0.000248         0.002580        0.000018     0.1   \n",
      "4       0.024645      0.000155         0.002614        0.000026       1   \n",
      "5       0.025426      0.000938         0.002634        0.000042      10   \n",
      "6       0.027855      0.006695         0.002992        0.000723     100   \n",
      "7       0.029888      0.006221         0.002998        0.000748    1000   \n",
      "\n",
      "          params  split0_test_score  split1_test_score  split2_test_score  \\\n",
      "0  {'C': 0.0001}           0.628593             0.6555            0.64075   \n",
      "1   {'C': 0.001}           0.628593             0.6555            0.64075   \n",
      "2    {'C': 0.01}           0.628593             0.6555            0.64075   \n",
      "3     {'C': 0.1}           0.628593             0.6555            0.64075   \n",
      "4       {'C': 1}           0.628593             0.6555            0.64075   \n",
      "5      {'C': 10}           0.628593             0.6555            0.64075   \n",
      "6     {'C': 100}           0.628593             0.6555            0.64075   \n",
      "7    {'C': 1000}           0.628593             0.6555            0.64075   \n",
      "\n",
      "   split3_test_score  split4_test_score  mean_test_score  std_test_score  \\\n",
      "0              0.657           0.669417          0.65025        0.014141   \n",
      "1              0.657           0.669417          0.65025        0.014141   \n",
      "2              0.657           0.669417          0.65025        0.014141   \n",
      "3              0.657           0.669417          0.65025        0.014141   \n",
      "4              0.657           0.669417          0.65025        0.014141   \n",
      "5              0.657           0.669167          0.65020        0.014073   \n",
      "6              0.657           0.669167          0.65020        0.014073   \n",
      "7              0.657           0.669167          0.65020        0.014073   \n",
      "\n",
      "   rank_test_score  \n",
      "0                1  \n",
      "1                1  \n",
      "2                1  \n",
      "3                1  \n",
      "4                1  \n",
      "5                6  \n",
      "6                6  \n",
      "7                6  \n"
     ]
    }
   ],
   "source": [
    "#used to calculate C value above:\n",
    "\n",
    "lr = linear_model.LogisticRegression()\n",
    "parameters = {'C':[0.0001,0.001,.01,0.1,1,10,100,1000]}\n",
    "clf = GridSearchCV(lr, parameters, cv=5) #run 5 different experiment on 5 parameters\n",
    "model_grid= clf.fit(features, y)\n",
    "print('What is the best model:', clf.best_estimator_)  \n",
    "print('What is the score of the best model:',clf.best_score_) \n",
    "results_grid = pd.DataFrame(clf.cv_results_)\n",
    "print(results_grid)"
   ]
  },
  {
   "cell_type": "code",
   "execution_count": null,
   "metadata": {},
   "outputs": [],
   "source": [
    "mod.fit(features, y)\n",
    "predict_test=mod.predict(X_test)"
   ]
  },
  {
   "cell_type": "code",
   "execution_count": null,
   "metadata": {},
   "outputs": [],
   "source": [
    "book = []\n",
    "users = []\n",
    "X5 = []\n",
    "y5 = []\n",
    "df5 = pd.read_csv('pairs_Read.txt', sep =\"-\" )\n",
    "df5.rename(columns = {'bookID,prediction':'bookID'}, inplace = True)"
   ]
  },
  {
   "cell_type": "code",
   "execution_count": null,
   "metadata": {},
   "outputs": [],
   "source": [
    "for i, l in enumerate(open('pairs_Read.txt')):\n",
    "    if l.startswith(\"userID\"):\n",
    "        with open('Read_predictions_assignment1.csv', 'w') as csvFile:\n",
    "            writer = csv.writer(csvFile)\n",
    "            writer.writerow([\"userID-bookID\",\"prediction\"])\n",
    "        continue\n",
    "  u,b = l.strip().split('-')\n",
    "  if b in not in books:\n",
    "    predictions.write(u + '-' + b + \",1\\n\")\n",
    "  else:\n",
    "    predictions.write(u + '-' + b + \",0\\n\")\n",
    "\n",
    "predictions.close()"
   ]
  },
  {
   "cell_type": "code",
   "execution_count": null,
   "metadata": {},
   "outputs": [],
   "source": [
    "predictions = open(\"predictions_Read.txt\", 'w')\n",
    "for i in range(len(df5)):\n",
    "    user = df5.iloc[i][0]\n",
    "    BK = df5.iloc[i][1]\n",
    "    if BK in return4:\n",
    "        sim = []\n",
    "        if BK in allBooks_train:\n",
    "            BK_users = set(user_per_book_train.get_group(BK)['userID'])\n",
    "            Book_read = book_user_train.get_group(user)['bookID']\n",
    "        if len(BK_users) == 1:\n",
    "            users_book_read = {}\n",
    "            sim.append(Jaccard(BK_users,users_book_read))\n",
    "            if max(sim) > threshold4:\n",
    "                predictions.write(user + '-' + BK + \",1\\n\")\n",
    "            else:\n",
    "                predictions.write(user + '-' + BK + \",0\\n\") \n",
    "        else:\n",
    "            # Look for users (in the train set) who have read BK and users who have read Book_read\n",
    "            for i in Book_read:\n",
    "                users_book_read = set(user_per_book_train.get_group(i)['userID'])\n",
    "                sim.append(Jaccard(BK_users,users_book_read))\n",
    "            \n",
    "            if max(sim) > threshold4:\n",
    "                predictions.write(user + '-' + BK + \",1\\n\")\n",
    "            else:\n",
    "                predictions.write(user + '-' + BK + \",0\\n\")\n",
    "    else: \n",
    "            sim = 0\n",
    "            predictions.write(user + '-' + BK + \",0\\n\")\n",
    "\n",
    "predictions.close()"
   ]
  },
  {
   "cell_type": "code",
   "execution_count": null,
   "metadata": {},
   "outputs": [],
   "source": []
  },
  {
   "cell_type": "markdown",
   "metadata": {},
   "source": [
    "***4.*** Improve the above predictor by incorporating both a Jaccard-based threshold and a popularity based\n",
    "threshold. Report the performance on your validation set (1 mark). "
   ]
  },
  {
   "cell_type": "code",
   "execution_count": null,
   "metadata": {},
   "outputs": [],
   "source": []
  },
  {
   "cell_type": "code",
   "execution_count": null,
   "metadata": {},
   "outputs": [],
   "source": []
  },
  {
   "cell_type": "code",
   "execution_count": null,
   "metadata": {},
   "outputs": [],
   "source": []
  },
  {
   "cell_type": "code",
   "execution_count": null,
   "metadata": {},
   "outputs": [],
   "source": []
  },
  {
   "cell_type": "code",
   "execution_count": null,
   "metadata": {},
   "outputs": [],
   "source": []
  },
  {
   "cell_type": "code",
   "execution_count": null,
   "metadata": {},
   "outputs": [],
   "source": []
  },
  {
   "cell_type": "code",
   "execution_count": null,
   "metadata": {},
   "outputs": [],
   "source": []
  },
  {
   "cell_type": "code",
   "execution_count": null,
   "metadata": {},
   "outputs": [],
   "source": [
    "Threshold=[0.4] # this is the most effective Threshold from above, but we find later that using 0.6 gives a better performance on kaggle.\n",
    "Y_val_predictions4=[]\n",
    "similar4 = []\n",
    "threshold4 = 0.000001\n",
    "sim=[]"
   ]
  },
  {
   "cell_type": "markdown",
   "metadata": {},
   "source": [
    "Logic for algorithm: Using Jaccard and Popular Method\n",
    "if popular book> 50% and  if sim>0.1,\n",
    "then append 1, else append 0."
   ]
  },
  {
   "cell_type": "code",
   "execution_count": null,
   "metadata": {},
   "outputs": [],
   "source": [
    "for tr in Threshold:\n",
    "    print(tr)\n",
    "    bookCount4= defaultdict(int)\n",
    "    totalRead4 = 0\n",
    "\n",
    "    for i in range(len(X_train)):\n",
    "            user4=X_train[i][0]\n",
    "            book4=X_train[i][1]\n",
    "            bookCount4[book4] += 1\n",
    "            totalRead4 += 1\n",
    "    \n",
    "    mostPopular4 = [(bookCount4[x], x) for x in bookCount4]\n",
    "    mostPopular4.sort()\n",
    "    mostPopular4.reverse()\n",
    "    \n",
    "    return4 = set()\n",
    "    count4 = 0\n",
    "    \n",
    "    for ic, i in mostPopular:\n",
    "        count4 += ic\n",
    "        return4.add(i)\n",
    "        if count4 > totalRead4*tr: break "
   ]
  },
  {
   "cell_type": "code",
   "execution_count": null,
   "metadata": {},
   "outputs": [],
   "source": [
    "#Combining Models:\n",
    "Y_val_predictions4=[]\n",
    "similar4 = []\n",
    "threshold4 = 0.000001\n",
    "\n",
    "#1\n",
    "for i in range(len(X_val_df)):\n",
    "    #print(k)\n",
    "    user = X_val_df.iloc[i][0]\n",
    "    BK = X_val_df.iloc[i][1]\n",
    "    \n",
    "    if BK in return4:\n",
    "        sim = []\n",
    "        \n",
    "        if BK in allBooks_train:\n",
    "            BK_users = set(user_per_book_train.get_group(BK)['userID'])\n",
    "        \n",
    "            Book_read = book_user_train.get_group(user)['bookID']\n",
    "        \n",
    "        if len(BK_users) == 1:\n",
    "            users_book_read = {}\n",
    "            sim.append(Jaccard(BK_users,users_book_read))\n",
    "            if max(sim) > threshold4:\n",
    "                Y_val_predictions4.append(1)\n",
    "            else:\n",
    "                Y_val_predictions4.append(0) \n",
    "              \n",
    "        else:\n",
    "            for i in Book_read:\n",
    "               \n",
    "                users_book_read = set(user_per_book_train.get_group(i)['userID'])\n",
    "                sim.append(Jaccard(BK_users,users_book_read))\n",
    "            \n",
    "            if max(sim) > threshold:\n",
    "               \n",
    "            #if max(sim) > threshold4:\n",
    "                Y_val_predictions4.append(1)\n",
    "            else:\n",
    "                Y_val_predictions4.append(0)\n",
    "    else: \n",
    "            sim = 0\n",
    "            Y_val_predictions4.append(0)\n"
   ]
  },
  {
   "cell_type": "code",
   "execution_count": null,
   "metadata": {},
   "outputs": [],
   "source": []
  },
  {
   "cell_type": "code",
   "execution_count": null,
   "metadata": {},
   "outputs": [],
   "source": [
    "tn5,fp5,fn5,tp5= confusion_matrix(Y_val_actual,Y_val_predictions4).ravel()\n",
    "accuracy5=(tp5+tn5)/(tp5+tn5+fp5+fn5)"
   ]
  },
  {
   "cell_type": "code",
   "execution_count": null,
   "metadata": {},
   "outputs": [],
   "source": [
    "accuracy5"
   ]
  },
  {
   "cell_type": "code",
   "execution_count": null,
   "metadata": {},
   "outputs": [],
   "source": [
    "from sklearn.metrics import confusion_matrix\n",
    "confusion_matrix = confusion_matrix(Y_val_actual,Y_val_predictions4)\n",
    "print(confusion_matrix)"
   ]
  },
  {
   "cell_type": "markdown",
   "metadata": {},
   "source": [
    "***5.*** To run our model on the test set, we’ll have to use the files ‘pairs Read.txt’ to find the reviewerID/itemID\n",
    "pairs about which we have to make predictions. Using that data, run the above model and upload your\n",
    "solution to Kaggle. Tell us your Kaggle user name (1 mark). If you’ve already uploaded a better solution\n",
    "to Kaggle, that’s fine too!"
   ]
  },
  {
   "cell_type": "code",
   "execution_count": null,
   "metadata": {},
   "outputs": [],
   "source": [
    "#You are supposed to read in the pairs_Read.txt file, make predictions for each of the 20,000 rows in this file \n",
    "#and write out the predictions to a new predictions_Read.txt file. \n",
    "#The code snippet in the answer shows you how to do this. Finally submit the predictions_Read.txt file to Kaggle.\n",
    "Threshold=[0.4]\n",
    "Y_val_predictions4=[]\n",
    "similar4 = []\n",
    "threshold4 = 0.000001"
   ]
  },
  {
   "cell_type": "code",
   "execution_count": null,
   "metadata": {},
   "outputs": [],
   "source": [
    "for tr in Threshold:\n",
    "    print(tr)\n",
    "    bookCount4= defaultdict(int)\n",
    "    totalRead4 = 0\n",
    "\n",
    "    for i in range(len(X_train)):\n",
    "            user4=X_train[i][0]\n",
    "            book4=X_train[i][1]\n",
    "            bookCount4[book4] += 1\n",
    "            totalRead4 += 1\n",
    "    \n",
    "    mostPopular4 = [(bookCount4[x], x) for x in bookCount4]\n",
    "    mostPopular4.sort()\n",
    "    mostPopular4.reverse()\n",
    "    \n",
    "    return4 = set()\n",
    "    count4 = 0\n",
    "    \n",
    "    for ic, i in mostPopular:\n",
    "        count4 += ic\n",
    "        return4.add(i)\n",
    "        if count4 > totalRead4*tr: break "
   ]
  },
  {
   "cell_type": "code",
   "execution_count": null,
   "metadata": {},
   "outputs": [],
   "source": [
    "book = []\n",
    "users = []\n",
    "X5 = []\n",
    "y5 = []\n",
    "df5 = pd.read_csv('pairs_Read.txt', sep =\"-\" )\n",
    "df5.rename(columns = {'bookID,prediction':'bookID'}, inplace = True)"
   ]
  },
  {
   "cell_type": "code",
   "execution_count": null,
   "metadata": {},
   "outputs": [],
   "source": [
    "predictions = open(\"predictions_Read.txt\", 'w')\n",
    "for i in range(len(df5)):\n",
    "    #u,b = df5.iloc[1][0].strip().split(\"-\")\n",
    "    #book5.append(b)\n",
    "   # users5.append(u)\n",
    "    user = df5.iloc[i][0]\n",
    "    BK = df5.iloc[i][1]\n",
    "    if BK in return4:\n",
    "        sim = []\n",
    "        if BK in allBooks_train:\n",
    "            BK_users = set(user_per_book_train.get_group(BK)['userID'])\n",
    "            Book_read = book_user_train.get_group(user)['bookID']\n",
    "        if len(BK_users) == 1:\n",
    "            users_book_read = {}\n",
    "            sim.append(Jaccard(BK_users,users_book_read))\n",
    "            if max(sim) > threshold4:\n",
    "                predictions.write(user + '-' + BK + \",1\\n\")\n",
    "            else:\n",
    "                predictions.write(user + '-' + BK + \",0\\n\") \n",
    "        else:\n",
    "            # Look for users (in the train set) who have read BK and users who have read Book_read\n",
    "            for i in Book_read:\n",
    "                users_book_read = set(user_per_book_train.get_group(i)['userID'])\n",
    "                sim.append(Jaccard(BK_users,users_book_read))\n",
    "            \n",
    "            if max(sim) > threshold4:\n",
    "                predictions.write(user + '-' + BK + \",1\\n\")\n",
    "            else:\n",
    "                predictions.write(user + '-' + BK + \",0\\n\")\n",
    "    else: \n",
    "            sim = 0\n",
    "            predictions.write(user + '-' + BK + \",0\\n\")\n",
    "\n",
    "predictions.close()"
   ]
  },
  {
   "cell_type": "code",
   "execution_count": null,
   "metadata": {},
   "outputs": [],
   "source": [
    "from pandas import read_csv\n",
    "dframe = pd.read_csv('predictions_Read.txt', header=None, names=['userID-bookID', 'prediction'])\n",
    "dframe.head()"
   ]
  },
  {
   "cell_type": "code",
   "execution_count": null,
   "metadata": {},
   "outputs": [],
   "source": [
    "export_csv=dframe.to_csv('predictions_Read.csv', index=None, header=True)"
   ]
  },
  {
   "cell_type": "code",
   "execution_count": null,
   "metadata": {},
   "outputs": [],
   "source": [
    "len(dframe)"
   ]
  },
  {
   "cell_type": "markdown",
   "metadata": {},
   "source": [
    "KAGGLE USERNAME : Ghislene Adjaoute, score is 0.67116\n"
   ]
  },
  {
   "cell_type": "code",
   "execution_count": null,
   "metadata": {},
   "outputs": [],
   "source": []
  },
  {
   "cell_type": "code",
   "execution_count": null,
   "metadata": {},
   "outputs": [],
   "source": []
  },
  {
   "cell_type": "code",
   "execution_count": null,
   "metadata": {},
   "outputs": [],
   "source": []
  },
  {
   "cell_type": "markdown",
   "metadata": {},
   "source": [
    "Let’s start by building our training/validation sets much as we did for the first task. This time building a\n",
    "validation set is more straightforward: you can simply use part of the data for validation, and do not need to\n",
    "randomly sample non-read users/books."
   ]
  },
  {
   "cell_type": "markdown",
   "metadata": {},
   "source": [
    "9. \n",
    "Fit a predictor of the form \n",
    "rating(user, item) 'α + βuser + βitem\n",
    "by fitting the mean and the two bias terms as described in the lecture notes. Use a regularization parameter of λ = 1. Report the MSE on the validation set (1 mark)."
   ]
  },
  {
   "cell_type": "code",
   "execution_count": 3,
   "metadata": {},
   "outputs": [],
   "source": [
    "user_by_item =defaultdict(list)\n",
    "book_by_user= defaultdict(list) #how many people read each book"
   ]
  },
  {
   "cell_type": "code",
   "execution_count": 4,
   "metadata": {},
   "outputs": [],
   "source": [
    "path = 'train_interactions.csv.gz'\n",
    "f = gzip.open(path, 'rt', encoding=\"utf8\")\n",
    "header = f.readline()\n",
    "header = header.strip().split(',')"
   ]
  },
  {
   "cell_type": "code",
   "execution_count": 5,
   "metadata": {},
   "outputs": [],
   "source": [
    "dataset9 = []\n",
    "for line in f:\n",
    "    fields = line.strip().split(',')\n",
    "    d = dict(zip(header, fields))\n",
    "    d['rating'] = int(d['rating'])\n",
    "    dataset9.append(d)"
   ]
  },
  {
   "cell_type": "code",
   "execution_count": 6,
   "metadata": {},
   "outputs": [],
   "source": [
    "vvv = int(80*len(dataset9)/100)\n",
    "train = dataset9[:vvv]\n",
    "validation = dataset9[vvv:]"
   ]
  },
  {
   "cell_type": "code",
   "execution_count": 7,
   "metadata": {},
   "outputs": [],
   "source": [
    "ratingsPerUser = defaultdict(list)\n",
    "ratingsPerBook = defaultdict(list)"
   ]
  },
  {
   "cell_type": "code",
   "execution_count": 8,
   "metadata": {},
   "outputs": [],
   "source": [
    "for d in train:\n",
    "    user,book = d['userID'], d['bookID']\n",
    "    ratingsPerUser[user].append(d)\n",
    "    ratingsPerBook[book].append(d)\n",
    "    rating = d['rating']"
   ]
  },
  {
   "cell_type": "code",
   "execution_count": 9,
   "metadata": {},
   "outputs": [],
   "source": [
    "ratingMean = sum([int(d['rating']) for d in train]) / len(train)"
   ]
  },
  {
   "cell_type": "code",
   "execution_count": 10,
   "metadata": {},
   "outputs": [],
   "source": [
    "N = len(train)\n",
    "nUsers = len(ratingsPerUser)\n",
    "nItems = len(ratingsPerBook)\n",
    "users = list(ratingsPerUser.keys())\n",
    "items = list(ratingsPerBook.keys())"
   ]
  },
  {
   "cell_type": "code",
   "execution_count": 11,
   "metadata": {},
   "outputs": [],
   "source": [
    "alpha = ratingMean"
   ]
  },
  {
   "cell_type": "code",
   "execution_count": 12,
   "metadata": {},
   "outputs": [],
   "source": [
    "userBiases = defaultdict(float)\n",
    "itemBiases = defaultdict(float)"
   ]
  },
  {
   "cell_type": "code",
   "execution_count": 13,
   "metadata": {},
   "outputs": [],
   "source": [
    "def prediction(user, item):\n",
    "    return alpha + userBiases[user] + itemBiases[item]"
   ]
  },
  {
   "cell_type": "code",
   "execution_count": 14,
   "metadata": {},
   "outputs": [],
   "source": [
    "def unpack(theta):\n",
    "    global alpha\n",
    "    global userBiases\n",
    "    global itemBiases\n",
    "    alpha = theta[0]\n",
    "    userBiases = dict(zip(users, theta[1:nUsers+1]))\n",
    "    itemBiases = dict(zip(items, theta[1+nUsers:]))"
   ]
  },
  {
   "cell_type": "code",
   "execution_count": 15,
   "metadata": {},
   "outputs": [],
   "source": [
    "def MSE(predictions, labels):\n",
    "    differences = [(x-y)**2 for x,y in zip(predictions,labels)]\n",
    "    return sum(differences) / len(differences)"
   ]
  },
  {
   "cell_type": "code",
   "execution_count": 16,
   "metadata": {},
   "outputs": [],
   "source": [
    "def cost(theta, labels, lamb):\n",
    "    unpack(theta)\n",
    "    predictions = [prediction(d['userID'], d['bookID']) for d in train]\n",
    "    cost = MSE(predictions, labels)\n",
    "    print(\"MSE = \" + str(cost))\n",
    "    for u in userBiases:\n",
    "        cost += lamb*userBiases[u]**2\n",
    "    for i in itemBiases:\n",
    "        cost += lamb*itemBiases[i]**2\n",
    "    return cost"
   ]
  },
  {
   "cell_type": "code",
   "execution_count": 17,
   "metadata": {},
   "outputs": [],
   "source": [
    "def derivative(theta, labels, lamb):\n",
    "    unpack(theta)\n",
    "    N = len(train)\n",
    "    dalpha = 0\n",
    "    dUserBiases = defaultdict(float)\n",
    "    dItemBiases = defaultdict(float)\n",
    "    for d in train:\n",
    "        u,b = d['userID'], d['bookID']\n",
    "        pred = prediction(u, b)\n",
    "        diff = pred - int(d['rating'])\n",
    "        dalpha += 2/N*diff\n",
    "        dUserBiases[u] += 2/N*diff\n",
    "        dItemBiases[b] += 2/N*diff\n",
    "    for u in userBiases:\n",
    "        dUserBiases[u] += 2*lamb*userBiases[u]\n",
    "    for b in itemBiases:\n",
    "        dItemBiases[b] += 2*lamb*itemBiases[b]\n",
    "    dtheta = [dalpha] + [dUserBiases[u] for u in users] + [dItemBiases[b] for b in items]\n",
    "    return numpy.array(dtheta)"
   ]
  },
  {
   "cell_type": "code",
   "execution_count": 18,
   "metadata": {},
   "outputs": [],
   "source": [
    "alwaysPredictMean = [ratingMean for d in train]"
   ]
  },
  {
   "cell_type": "code",
   "execution_count": 19,
   "metadata": {},
   "outputs": [],
   "source": [
    "labels_train = [int(d['rating']) for d in train]\n",
    "labels_valid = [int(d['rating']) for d in validation]"
   ]
  },
  {
   "cell_type": "code",
   "execution_count": 20,
   "metadata": {},
   "outputs": [
    {
     "data": {
      "text/plain": [
       "1.4777248085935766"
      ]
     },
     "execution_count": 20,
     "metadata": {},
     "output_type": "execute_result"
    }
   ],
   "source": [
    "MSE(alwaysPredictMean, labels_train)"
   ]
  },
  {
   "cell_type": "code",
   "execution_count": 21,
   "metadata": {},
   "outputs": [
    {
     "name": "stdout",
     "output_type": "stream",
     "text": [
      "MSE = 1.4777248085935766\n",
      "MSE = 1.4598930602062035\n",
      "MSE = 1.477560464109261\n",
      "MSE = 1.4775604617837361\n"
     ]
    }
   ],
   "source": [
    "result= scipy.optimize.fmin_l_bfgs_b(cost, [alpha] + [0.0]*(nUsers+nItems),\n",
    "                             derivative, args = (labels_train, 1))"
   ]
  },
  {
   "cell_type": "code",
   "execution_count": 22,
   "metadata": {},
   "outputs": [
    {
     "data": {
      "text/plain": [
       "3.896409859007681"
      ]
     },
     "execution_count": 22,
     "metadata": {},
     "output_type": "execute_result"
    }
   ],
   "source": [
    "alpha"
   ]
  },
  {
   "cell_type": "code",
   "execution_count": 23,
   "metadata": {},
   "outputs": [],
   "source": [
    "#predictions Training set\n",
    "predictions_train = []\n",
    "for d in train:\n",
    "    user,book = d['userID'], d['bookID']\n",
    "    \n",
    "    if book in itemBiases and user in userBiases:\n",
    "         pred1 = alpha + userBiases[user] + itemBiases[book]\n",
    "    else:\n",
    "        pred1 = alpha\n",
    "    predictions_train.append(pred1)"
   ]
  },
  {
   "cell_type": "code",
   "execution_count": 24,
   "metadata": {},
   "outputs": [
    {
     "data": {
      "text/plain": [
       "1.4775604617837361"
      ]
     },
     "execution_count": 24,
     "metadata": {},
     "output_type": "execute_result"
    }
   ],
   "source": [
    "MSE(predictions_train,labels_train)"
   ]
  },
  {
   "cell_type": "code",
   "execution_count": 25,
   "metadata": {},
   "outputs": [],
   "source": [
    "#repeat for predictions validation:\n",
    "\n",
    "predictions_validation = []\n",
    "for d in validation:\n",
    "    user,book = d['userID'], d['bookID']\n",
    "    \n",
    "    if book in itemBiases and user in userBiases:\n",
    "         pred1 = alpha + userBiases[user] + itemBiases[book]\n",
    "    else:\n",
    "        pred1 = alpha\n",
    "    predictions_validation.append(pred1)"
   ]
  },
  {
   "cell_type": "code",
   "execution_count": 26,
   "metadata": {},
   "outputs": [
    {
     "data": {
      "text/plain": [
       "1.4610529908242351"
      ]
     },
     "execution_count": 26,
     "metadata": {},
     "output_type": "execute_result"
    }
   ],
   "source": [
    "MSE_Validation = MSE(predictions_validation,labels_valid)\n",
    "MSE_Validation"
   ]
  },
  {
   "cell_type": "markdown",
   "metadata": {},
   "source": [
    "Question 11"
   ]
  },
  {
   "cell_type": "markdown",
   "metadata": {},
   "source": [
    "Find a better value of λ using your validation set. Report the value you chose, its MSE, and upload your\n",
    "solution to Kaggle by running it on the test data (1 mark)."
   ]
  },
  {
   "cell_type": "code",
   "execution_count": 32,
   "metadata": {},
   "outputs": [
    {
     "name": "stdout",
     "output_type": "stream",
     "text": [
      "1e-06\n",
      "MSE = 1.4809285217339019\n",
      "MSE = 2.3416230648460585\n",
      "MSE = 1.477555249193399\n",
      "MSE = 1.4773868164793784\n",
      "MSE = 1.4767135909964562\n",
      "MSE = 1.4740287750344367\n",
      "MSE = 1.4634188867024385\n",
      "MSE = 1.4230493416308045\n",
      "MSE = 1.0605616058951548\n",
      "MSE = 1.1473576462094621\n",
      "MSE = 1.0033984229096777\n",
      "MSE = 0.9728796310811672\n",
      "MSE = 0.9298791495131971\n",
      "MSE = 0.9207175546048988\n",
      "MSE = 0.9105852772653863\n",
      "MSE = 0.9029128761961507\n",
      "MSE = 0.8986942330396797\n",
      "MSE = 0.8928249969909854\n",
      "MSE = 0.8950410277077057\n",
      "MSE = 0.8909103439647662\n",
      "MSE = 0.8898278751844136\n",
      "MSE = 0.9298014310565974\n",
      "MSE = 0.8897531460656499\n",
      "MSE = 0.8891983576013961\n",
      "MSE = 0.8890042102985608\n",
      "MSE = 0.8887628545967325\n",
      "MSE = 0.8883835164219885\n",
      "MSE = 0.887777246676655\n",
      "MSE = 0.8875345165946327\n",
      "MSE = 0.8873718573540708\n",
      "MSE = 0.8870911379655827\n",
      "MSE = 0.8869402853972562\n",
      "MSE = 0.8868728250640152\n",
      "MSE = 0.8868968118749595\n",
      "MSE = 0.8868700699441681\n",
      "MSE = 0.8868617161719714\n",
      "MSE = 0.8868559572322702\n",
      "MSE = 0.8868453068922804\n",
      "MSE = 0.8868396348537826\n",
      "MSE = 0.8868460500877247\n",
      "MSE = 0.8868348821594247\n",
      "MSE = 0.8867901521930013\n",
      "MSE = 0.8867707583236927\n",
      "MSE = 0.8867506047830691\n",
      "MSE = 0.8867333804002061\n",
      "MSE = 0.8867015209236712\n",
      "MSE = 0.8867059057163283\n",
      "MSE = 0.8867001037053891\n",
      "MSE = 0.8866965958327282\n",
      "MSE = 0.8866961902718138\n",
      "MSE = 0.8866958253739924\n",
      "MSE = 0.8867652434336762\n",
      "MSE = 0.8866963146986949\n",
      "MSE = 0.8866953903960946\n",
      "MSE = 0.8866936169383591\n",
      "MSE = 0.8866914979108993\n",
      "MSE = 0.8866868753979837\n",
      "MSE = 0.8866795255052091\n",
      "MSE = 0.8866647908267925\n",
      "MSE = 0.8868877974375269\n",
      "MSE = 0.8866646427450305\n",
      "MSE = 0.8866611814687858\n",
      "MSE = 0.886660703174706\n",
      "MSE = 0.8866603348832934\n",
      "MSE = 0.8868123589570929\n",
      "MSE = 0.8866605698253177\n",
      "MSE = 0.8866599145222533\n",
      "MSE = 0.8866582069363963\n",
      "MSE = 0.8866551861354174\n",
      "MSE = 0.886650685736915\n",
      "MSE = 0.8866558258685266\n",
      "MSE = 0.8866488823528204\n",
      "MSE = 0.8866448000187962\n",
      "MSE = 0.8870337277987943\n",
      "MSE = 0.8866446948469254\n",
      "MSE = 0.8866410875565552\n",
      "MSE = 0.8866381787054456\n",
      "MSE = 0.8866347822257001\n",
      "MSE = 0.8866294043626631\n",
      "MSE = 0.8866329676830248\n",
      "MSE = 0.8866274335353841\n",
      "MSE = 0.8866246317724746\n",
      "MSE = 0.8866222784399852\n",
      "MSE = 0.8866215394177794\n",
      "MSE = 0.8866273300162751\n",
      "MSE = 0.8866197398471484\n",
      "MSE = 0.8866166120773807\n",
      "MSE = 0.8883441365333214\n",
      "MSE = 0.8866164623248213\n",
      "MSE = 0.8866121717585824\n",
      "MSE = 0.886606648228479\n",
      "MSE = 0.8866030237785087\n",
      "MSE = 0.8866104758854004\n",
      "MSE = 0.8866014871301559\n",
      "MSE = 0.8866005704235355\n",
      "MSE = 0.8866003604956147\n",
      "MSE = 0.8865999561448974\n",
      "MSE = 0.8865964025223099\n",
      "MSE = 0.8865978174163364\n",
      "MSE = 0.8865960278337679\n",
      "MSE = 0.8865947451753309\n",
      "MSE = 0.8865935221282311\n",
      "MSE = 0.8866012204456596\n",
      "MSE = 0.8865932810501547\n",
      "MSE = 0.886593305838453\n",
      "MSE = 0.8865939513681471\n",
      "MSE = 0.8865941186967861\n",
      "MSE = 0.886593943326206\n",
      "MSE = 0.8865961629213754\n",
      "MSE = 0.8865933317446881\n",
      "MSE = 0.8865921512180386\n",
      "MSE = 0.886611227239749\n",
      "MSE = 0.8865934074145587\n",
      "MSE = 0.8865917267628162\n",
      "MSE = 0.886607033119509\n",
      "MSE = 0.886592995636699\n",
      "MSE = 0.8865913717033663\n",
      "MSE = 0.8865913136142357\n",
      "MSE = 0.886591201121203\n",
      "MSE = 0.8865903392579776\n",
      "MSE = 0.8865894120296812\n",
      "MSE = 0.8865881790311593\n",
      "MSE = 0.8865871630505199\n",
      "MSE = 0.8865867430642206\n",
      "MSE = 0.8865869702633645\n",
      "MSE = 0.8866221310415083\n",
      "MSE = 0.8865862764951191\n",
      "MSE = 0.8865862427002373\n",
      "MSE = 0.8865852222468514\n",
      "MSE = 0.8865833019082365\n",
      "MSE = 0.8873151454566358\n",
      "MSE = 0.8865832665348405\n",
      "MSE = 0.8865800134387375\n",
      "MSE = 0.8865775850320526\n",
      "MSE = 0.8865766399409895\n",
      "MSE = 0.8865761498964996\n",
      "MSE = 0.886576014404723\n",
      "MSE = 0.8866126303735966\n",
      "MSE = 0.8865758368277747\n",
      "MSE = 0.8865737439174681\n",
      "MSE = 0.886575286402055\n",
      "MSE = 0.8865756362357712\n",
      "MSE = 0.8865758760705258\n",
      "MSE = 0.8865719227930154\n",
      "MSE = 0.8866116490273617\n",
      "MSE = 0.8865718797355708\n",
      "MSE = 0.8865699456282687\n",
      "MSE = 0.8865951309259693\n",
      "MSE = 0.886570852993265\n",
      "MSE = 0.886568818099353\n",
      "MSE = 0.8865652134965123\n",
      "MSE = 0.886564262793411\n",
      "MSE = 0.8865603797178048\n",
      "MSE = 0.8865786432547089\n",
      "MSE = 0.8865599367287352\n",
      "MSE = 0.886559956109017\n",
      "MSE = 0.8865589537550843\n",
      "9e-05\n",
      "MSE = 1.486786420024875\n",
      "MSE = 2.286868543475607\n",
      "MSE = 1.4775544773469662\n",
      "MSE = 1.4773887813156974\n",
      "MSE = 1.4767264862555707\n",
      "MSE = 1.474085131057442\n",
      "MSE = 1.4636449109403535\n",
      "MSE = 1.4238872412820058\n",
      "MSE = 1.0957917861345003\n",
      "MSE = 1.1005304005918912\n",
      "MSE = 1.057199342962639\n",
      "MSE = 1.0597721622447485\n",
      "MSE = 1.051463727965986\n",
      "MSE = 1.036616635567677\n",
      "MSE = 1.0350216376929429\n",
      "MSE = 1.034398398474339\n",
      "MSE = 1.033411359815965\n",
      "MSE = 1.0336076981843867\n",
      "MSE = 1.0333002280757735\n",
      "MSE = 1.0335356871690198\n",
      "MSE = 1.035510764857318\n",
      "MSE = 1.0335358381350073\n",
      "MSE = 1.0335665679049084\n",
      "MSE = 1.0335754326757536\n",
      "MSE = 1.0335236532822574\n",
      "1e-05\n",
      "MSE = 1.4811534605271366\n",
      "MSE = 2.339588277439953\n",
      "MSE = 1.4775552792741842\n",
      "MSE = 1.477387124080497\n",
      "MSE = 1.4767150070138457\n",
      "MSE = 1.4740345980724272\n",
      "MSE = 1.463441911512248\n",
      "MSE = 1.423134352560154\n",
      "MSE = 1.0609189244303276\n",
      "MSE = 1.1290249262501917\n",
      "MSE = 1.0040355319867391\n",
      "MSE = 0.9775046932942201\n",
      "MSE = 0.9352915890360357\n",
      "MSE = 0.9233787811440974\n",
      "MSE = 0.9158060403578886\n",
      "MSE = 0.909949209854557\n",
      "MSE = 0.9057632904169471\n",
      "MSE = 0.899801501238192\n",
      "MSE = 0.9005091408980421\n",
      "MSE = 0.898502957580323\n",
      "MSE = 0.897441865832409\n",
      "MSE = 0.9199884244335724\n",
      "MSE = 0.8973840833099169\n",
      "MSE = 0.8970909259797245\n",
      "MSE = 0.8970244494166747\n",
      "MSE = 0.8969125613748092\n",
      "MSE = 0.8966165944658833\n",
      "MSE = 0.8961440995777533\n",
      "MSE = 0.8959218479673842\n",
      "MSE = 0.8957760843391492\n",
      "MSE = 0.8955041379893334\n",
      "MSE = 0.895403037208747\n",
      "MSE = 0.8953750436161736\n",
      "MSE = 0.8953776283747682\n",
      "MSE = 0.8953812567164189\n",
      "MSE = 0.8953759435443539\n",
      "MSE = 0.8953604362121447\n",
      "MSE = 0.8953553918222912\n",
      "MSE = 0.8953454546258727\n",
      "MSE = 0.8953445125356824\n",
      "MSE = 0.895349607819556\n",
      "MSE = 0.8953530363022046\n",
      "MSE = 0.8953618100168728\n",
      "MSE = 0.8953599149502306\n",
      "MSE = 0.8953403055845687\n",
      "MSE = 0.8953532606819832\n",
      "MSE = 0.8953470301152174\n",
      "MSE = 0.8953457173673803\n",
      "MSE = 0.8953439090654544\n",
      "MSE = 0.8953432865945969\n",
      "MSE = 0.8953432612129156\n",
      "MSE = 0.8953429364111529\n",
      "MSE = 0.8953418409649865\n",
      "MSE = 0.8953395498087233\n",
      "MSE = 0.8953384069390496\n",
      "MSE = 0.8953353558424897\n",
      "MSE = 0.8953428024009549\n",
      "MSE = 0.8953330842798704\n",
      "MSE = 0.8953320908142783\n",
      "MSE = 0.8953320789161225\n",
      "MSE = 0.8953315923967502\n",
      "MSE = 0.8953329951169179\n",
      "MSE = 0.8953335929591445\n",
      "MSE = 0.8953335771934222\n",
      "MSE = 0.8953325473295255\n",
      "MSE = 0.8953331184142702\n",
      "MSE = 0.8953321882437049\n",
      "MSE = 0.8953295163780258\n",
      "MSE = 0.8953260471088741\n",
      "MSE = 0.8953234044091468\n",
      "MSE = 0.8953216491054423\n",
      "MSE = 0.8953211698242001\n",
      "MSE = 0.8953209711062112\n",
      "MSE = 0.8953206137881939\n",
      "MSE = 0.8953207157568095\n",
      "MSE = 0.8953205693296908\n",
      "MSE = 0.8953201263807953\n",
      "MSE = 0.8953192791800457\n",
      "MSE = 0.8953179906581601\n",
      "MSE = 0.895315404206004\n",
      "MSE = 0.89531162530364\n",
      "MSE = 0.8953059608642412\n",
      "MSE = 0.8952992060459443\n",
      "MSE = 0.8952952522377633\n",
      "MSE = 0.8952980354262178\n",
      "MSE = 0.8952972678618738\n",
      "MSE = 0.8952978455766679\n",
      "MSE = 0.8952981410762304\n",
      "MSE = 0.8952980756010311\n",
      "MSE = 0.8952978377561757\n",
      "MSE = 0.8952953054590973\n",
      "MSE = 0.8955381662880884\n",
      "MSE = 0.8952964699063861\n",
      "MSE = 0.895289783535489\n",
      "MSE = 0.8952882571395075\n",
      "MSE = 0.895286765952469\n",
      "MSE = 0.8952845431934989\n",
      "MSE = 0.8952810738756023\n",
      "MSE = 0.8952798479998817\n",
      "MSE = 0.8952798714571569\n",
      "MSE = 0.8952796578640211\n",
      "MSE = 0.895284060548831\n",
      "MSE = 0.8952803854680563\n",
      "MSE = 0.8952758728793355\n",
      "MSE = 0.895269954502762\n",
      "0.00095\n",
      "MSE = 1.4854498884734442\n",
      "MSE = 2.298526684273314\n",
      "MSE = 1.4775547518891456\n",
      "MSE = 1.477388945018824\n",
      "MSE = 1.476726207244611\n",
      "MSE = 1.474083091463699\n",
      "MSE = 1.4636359933952627\n",
      "MSE = 1.3502084599650273\n",
      "MSE = 1.3518082804551268\n",
      "MSE = 1.3520128533355917\n",
      "MSE = 1.351986656830229\n",
      "0.00089\n",
      "MSE = 1.478064565283354\n",
      "MSE = 2.2430189128285294\n",
      "MSE = 1.4775396599028172\n",
      "MSE = 1.477336032897471\n",
      "MSE = 1.476522264097546\n",
      "MSE = 1.473279016441515\n",
      "MSE = 1.4604952665153565\n",
      "MSE = 1.3454120478335587\n",
      "MSE = 1.3456824856149971\n",
      "MSE = 1.3457671593690888\n",
      "MSE = 1.345696966896155\n",
      "0.0001\n",
      "MSE = 1.478096877672179\n",
      "MSE = 2.2553164603001634\n",
      "MSE = 1.4775413298010447\n",
      "MSE = 1.477340972381583\n",
      "MSE = 1.4765402579098588\n",
      "MSE = 1.4733488433219317\n",
      "MSE = 1.4607662777532304\n",
      "MSE = 1.4133655000052248\n",
      "MSE = 1.1063795502470466\n",
      "MSE = 1.0872751573588626\n",
      "MSE = 1.0747551070287655\n",
      "MSE = 1.0708372468376834\n",
      "MSE = 1.0577620661291969\n",
      "MSE = 1.0490390986454583\n",
      "MSE = 1.0483121409639988\n",
      "MSE = 1.047999171132228\n",
      "MSE = 1.0476119202668936\n",
      "MSE = 1.0472706658642545\n",
      "MSE = 1.0472843413519375\n",
      "MSE = 1.0472242186457152\n",
      "MSE = 1.0475685433049362\n",
      "MSE = 1.047223420372444\n",
      "MSE = 1.0472440344145983\n"
     ]
    }
   ],
   "source": [
    "lamb = [0.000001,0.00009, 0.00001, 0.00095, 0.00089, 0.0001]\n",
    "MSE_train = []\n",
    "MSE_valid = []\n",
    "results_11 = []\n",
    "\n",
    "for i in lamb:\n",
    "    print(i)\n",
    "    result = scipy.optimize.fmin_l_bfgs_b(cost, [alpha] + [0.0]*(nUsers+nItems),\n",
    "                             derivative, args = (labels_train, i))\n",
    "    \n",
    "    results_11.append(result)\n",
    "    predictions = []\n",
    "\n",
    "    for d in train:\n",
    "        user,book = d['userID'], d['bookID']\n",
    "        \n",
    "        if book in itemBiases and user in userBiases:\n",
    "             pred1 = alpha + userBiases[user] + itemBiases[book]\n",
    "        else:\n",
    "            pred1 = alpha\n",
    "        \n",
    "        predictions.append(pred1)\n",
    "        \n",
    "    MSE_t = MSE(predictions,labels_train)\n",
    "        \n",
    "    MSE_train.append(MSE_t)\n",
    "        \n",
    "    predictions_validation = []\n",
    "\n",
    "    for d in validation:\n",
    "        user,book = d['userID'], d['bookID']\n",
    "        \n",
    "        if book in itemBiases and user in userBiases:\n",
    "             pred1 = alpha + userBiases[user] + itemBiases[book]\n",
    "        else:\n",
    "            pred1 = alpha\n",
    "        \n",
    "        predictions_validation.append(pred1)\n",
    "    \n",
    "    MSE_pred = MSE(predictions_validation,labels_valid)    \n",
    "    MSE_valid.append(MSE_pred)"
   ]
  },
  {
   "cell_type": "markdown",
   "metadata": {},
   "source": [
    "For question 11, I decided to improve my lambda by plotting a visual graph to see which lambda is the best. I also corrected my code and did not use the function with gamma which I had mistakenly used in HMW3, this is why I had such a low result."
   ]
  },
  {
   "cell_type": "code",
   "execution_count": 33,
   "metadata": {},
   "outputs": [
    {
     "data": {
      "image/png": "[encoded data removed]",
      "text/plain": [
       "<Figure size 432x288 with 1 Axes>"
      ]
     },
     "metadata": {
      "needs_background": "light"
     },
     "output_type": "display_data"
    }
   ],
   "source": [
    "import matplotlib.pyplot as plt \n",
    "graph = [0,1,2,3,4,5]\n",
    "\n",
    "plt.plot(graph, MSE_train, color=\"turquoise\", label='Train Mean Standard Error')\n",
    "plt.plot(graph, MSE_valid,color=\"orange\", label='Validation Mean Standard Error')\n",
    "plt.xlabel('Values of Lambda')\n",
    "plt.legend()\n",
    "plt.xticks(graph, lamb)\n",
    "plt.ylabel('Mean Standard Error')\n",
    "plt.suptitle('Mean Standard Error per Lambda values')\n",
    "plt.show()"
   ]
  },
  {
   "cell_type": "markdown",
   "metadata": {},
   "source": [
    "Based on the graph above the best value for lambda is 0.00001, as it gives us the smallest MSE for both the train and validation sets. Since I now have an accurate lambda, I repeat the steps in question 9 to train the entire dataset using that lambda of 0.00001. This is the mistake I made in hmw#3: I did not rerun the predictions with the best lambda. For simplicity I will re-upload the data and start over."
   ]
  },
  {
   "cell_type": "code",
   "execution_count": null,
   "metadata": {},
   "outputs": [],
   "source": [
    "path = \"train_Interactions.csv.gz\"\n",
    "f = gzip.open(path, 'rt', encoding=\"utf8\")\n",
    "header = f.readline()\n",
    "header = header.strip().split(',')"
   ]
  },
  {
   "cell_type": "code",
   "execution_count": null,
   "metadata": {},
   "outputs": [],
   "source": [
    "dataset9 = []\n",
    "for line in f:\n",
    "    fields = line.strip().split(',')\n",
    "    d = dict(zip(header, fields))\n",
    "    d['rating'] = int(d['rating'])\n",
    "    dataset9.append(d)"
   ]
  },
  {
   "cell_type": "code",
   "execution_count": null,
   "metadata": {},
   "outputs": [],
   "source": [
    "ratingsPerUser = defaultdict(list)\n",
    "ratingsPerBook = defaultdict(list)"
   ]
  },
  {
   "cell_type": "code",
   "execution_count": null,
   "metadata": {},
   "outputs": [],
   "source": [
    "for d in dataset9:\n",
    "    user,book = d['userID'], d['bookID']\n",
    "    ratingsPerUser[user].append(d)\n",
    "    ratingsPerBook[book].append(d)\n",
    "    rating = d['rating']"
   ]
  },
  {
   "cell_type": "code",
   "execution_count": null,
   "metadata": {},
   "outputs": [],
   "source": [
    "ratingMean = sum([int(d['rating']) for d in train]) / len(train)"
   ]
  },
  {
   "cell_type": "code",
   "execution_count": null,
   "metadata": {},
   "outputs": [],
   "source": [
    "N = len(dataset9)\n",
    "nUsers = len(ratingsPerUser)\n",
    "nItems = len(ratingsPerBook)\n",
    "users = list(ratingsPerUser.keys())\n",
    "items = list(ratingsPerBook.keys())"
   ]
  },
  {
   "cell_type": "code",
   "execution_count": null,
   "metadata": {},
   "outputs": [],
   "source": [
    "def prediction(user, item):\n",
    "    return alpha + userBiases[user] + itemBiases[item]"
   ]
  },
  {
   "cell_type": "code",
   "execution_count": null,
   "metadata": {},
   "outputs": [],
   "source": [
    "alpha = ratingMean\n",
    "userBiases = defaultdict(float)\n",
    "itemBiases = defaultdict(float)"
   ]
  },
  {
   "cell_type": "code",
   "execution_count": null,
   "metadata": {},
   "outputs": [],
   "source": [
    "def unpack(theta):\n",
    "    global alpha\n",
    "    global userBiases\n",
    "    global itemBiases\n",
    "    alpha = theta[0]\n",
    "    userBiases = dict(zip(users, theta[1:nUsers+1]))\n",
    "    itemBiases = dict(zip(items, theta[1+nUsers:]))"
   ]
  },
  {
   "cell_type": "code",
   "execution_count": null,
   "metadata": {},
   "outputs": [],
   "source": [
    "def MSE(predictions, labels):\n",
    "    differences = [(x-y)**2 for x,y in zip(predictions,labels)]\n",
    "    return sum(differences) / len(differences)"
   ]
  },
  {
   "cell_type": "code",
   "execution_count": null,
   "metadata": {},
   "outputs": [],
   "source": [
    "def cost(theta, labels, lamb):\n",
    "    unpack(theta)\n",
    "    predictions = [prediction(d['userID'], d['bookID']) for d in dataset9]\n",
    "    cost = MSE(predictions, labels)\n",
    "    print(\"MSE = \" + str(cost))\n",
    "    for u in userBiases:\n",
    "        cost += lamb*userBiases[u]**2\n",
    "    for i in itemBiases:\n",
    "        cost += lamb*itemBiases[i]**2\n",
    "    return cost"
   ]
  },
  {
   "cell_type": "code",
   "execution_count": null,
   "metadata": {},
   "outputs": [],
   "source": [
    "def derivative(theta, labels, lamb):\n",
    "    unpack(theta)\n",
    "    N = len(dataset9)\n",
    "    dalpha = 0\n",
    "    dUserBiases = defaultdict(float)\n",
    "    dItemBiases = defaultdict(float)\n",
    "    for d in dataset9:\n",
    "        u,b = d['userID'], d['bookID']\n",
    "        pred = prediction(u, b)\n",
    "        diff = pred - int(d['rating'])\n",
    "        dalpha += 2/N*diff\n",
    "        dUserBiases[u] += 2/N*diff\n",
    "        dItemBiases[b] += 2/N*diff\n",
    "    for u in userBiases:\n",
    "        dUserBiases[u] += 2*lamb*userBiases[u]\n",
    "    for b in itemBiases:\n",
    "        dItemBiases[b] += 2*lamb*itemBiases[b]\n",
    "    dtheta = [dalpha] + [dUserBiases[u] for u in users] + [dItemBiases[b] for b in items]\n",
    "    return numpy.array(dtheta)"
   ]
  },
  {
   "cell_type": "code",
   "execution_count": null,
   "metadata": {},
   "outputs": [],
   "source": [
    "final = 0.00001\n",
    "y = [int(d['rating']) for d in dataset9]"
   ]
  },
  {
   "cell_type": "code",
   "execution_count": null,
   "metadata": {},
   "outputs": [],
   "source": [
    "final_results = scipy.optimize.fmin_l_bfgs_b(cost, [alpha] + [0.0]*(nUsers+nItems),\n",
    "                             derivative, args = (y, final))"
   ]
  },
  {
   "cell_type": "code",
   "execution_count": null,
   "metadata": {},
   "outputs": [],
   "source": [
    "predictions = open(\"predictions_Rating.txt\", 'w')\n",
    "prediction_rating = []\n",
    "\n",
    "for l in open(\"pairs_Rating.txt\"):\n",
    "    if l.startswith(\"userID\"):\n",
    "        predictions.write(l)\n",
    "        continue\n",
    "    u,b = l.strip().split('-')\n",
    "    if u in userBiases and b in itemBiases:\n",
    "        \n",
    "        pred = alpha + userBiases[u] + itemBiases[b]\n",
    "        predictions.write(u + '-' + b + ',' + str(pred) + '\\n')\n",
    "    else:\n",
    "        pred = int(alpha)\n",
    "        predictions.write(u + '-' + b + ',' + str(pred) + '\\n')\n",
    "        \n",
    "    prediction_rating.append(pred)\n",
    "\n",
    "predictions.close()"
   ]
  },
  {
   "cell_type": "markdown",
   "metadata": {},
   "source": [
    "new score is 1.138034"
   ]
  },
  {
   "cell_type": "code",
   "execution_count": null,
   "metadata": {},
   "outputs": [],
   "source": [
    "testlast = pd.read_csv('pairs_Rating.txt')"
   ]
  },
  {
   "cell_type": "code",
   "execution_count": null,
   "metadata": {},
   "outputs": [],
   "source": [
    "testlast['prediction'] = v_predict"
   ]
  },
  {
   "cell_type": "code",
   "execution_count": null,
   "metadata": {},
   "outputs": [],
   "source": [
    "len(v_predict)"
   ]
  },
  {
   "cell_type": "code",
   "execution_count": null,
   "metadata": {},
   "outputs": [],
   "source": [
    "export_csv = testlast.to_csv ('predictions_Rating.csv', index = None, header=True)"
   ]
  }
 ],
 "metadata": {
  "kernelspec": {
   "display_name": "Python 3",
   "language": "python",
   "name": "python3"
  },
  "language_info": {
   "codemirror_mode": {
    "name": "ipython",
    "version": 3
   },
   "file_extension": ".py",
   "mimetype": "text/x-python",
   "name": "python",
   "nbconvert_exporter": "python",
   "pygments_lexer": "ipython3",
   "version": "3.6.9"
  }
 },
 "nbformat": 4,
 "nbformat_minor": 4
}
